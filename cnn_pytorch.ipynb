{
 "cells": [
  {
   "cell_type": "markdown",
   "id": "c0a0f61e",
   "metadata": {},
   "source": [
    "## Load Libraries"
   ]
  },
  {
   "cell_type": "code",
   "execution_count": 7,
   "id": "8e6fedb1",
   "metadata": {},
   "outputs": [],
   "source": [
    "import torch\n",
    "import torch.nn as nn\n",
    "import torch.optim as optim\n",
    "from torchvision import datasets, transforms\n",
    "from torch.utils.data import DataLoader"
   ]
  },
  {
   "cell_type": "markdown",
   "id": "00de420f",
   "metadata": {},
   "source": [
    "## Define Transformations"
   ]
  },
  {
   "cell_type": "code",
   "execution_count": 2,
   "id": "e04b14ef",
   "metadata": {},
   "outputs": [],
   "source": [
    "transform = transforms.Compose([\n",
    "    transforms.ToTensor(),\n",
    "    transforms.Normalize((0.5, 0.5, 0.5),(0.5, 0.5, 0.5))\n",
    "])"
   ]
  },
  {
   "cell_type": "markdown",
   "id": "a065a64b",
   "metadata": {},
   "source": [
    "## Load the Data"
   ]
  },
  {
   "cell_type": "code",
   "execution_count": 3,
   "id": "d33a76cc",
   "metadata": {},
   "outputs": [
    {
     "name": "stderr",
     "output_type": "stream",
     "text": [
      "100.0%\n"
     ]
    }
   ],
   "source": [
    "import ssl\n",
    "ssl._create_default_https_context = ssl._create_unverified_context\n",
    "\n",
    "train_data = datasets.CIFAR10( root=\"./data\", train=True, download=True, transform = transform)\n",
    "test_data = datasets.CIFAR10( root=\"./data\", train=False, download=True, transform = transform)"
   ]
  },
  {
   "cell_type": "code",
   "execution_count": 4,
   "id": "0a164533",
   "metadata": {},
   "outputs": [],
   "source": [
    "train_loader = DataLoader(dataset=train_data, batch_size=64, shuffle=True)\n",
    "test_loader = DataLoader(dataset=test_data, batch_size=64, shuffle=False)"
   ]
  },
  {
   "cell_type": "markdown",
   "id": "b7d80d1c",
   "metadata": {},
   "source": [
    "## Build the Architecture"
   ]
  },
  {
   "cell_type": "code",
   "execution_count": 5,
   "id": "d54ad308",
   "metadata": {},
   "outputs": [],
   "source": [
    "class cnn_cifar(nn.Module):\n",
    "    def __init__(self):\n",
    "        super(cnn_cifar, self).__init__()\n",
    "        self.cnn1 = nn.Conv2d(3, 6, 5)\n",
    "        self.cnn2 = nn.Conv2d(6, 16, 5)\n",
    "        self.fc1 = nn.Linear(5*5*16, 120)\n",
    "        self.fc1 = nn.Linear(120, 84)\n",
    "        self.fc1 = nn.Linear(84, 10)\n",
    "        \n",
    "        def forward(self, x):\n",
    "            x=self.cnn1(x)\n",
    "            x=torch.relu(x)\n",
    "            x=torch.max_pool2d(x, 2)\n",
    "\n",
    "            x=self.cnn2(x)\n",
    "            x=torch.relu(x)\n",
    "            x=torch.max_pool2d(x, 2)\n",
    "\n",
    "            x=torch.flatten(x, -1)\n",
    "\n",
    "            x=self.fc1(x)\n",
    "            x=torch.relu(x)\n",
    "\n",
    "            x=self.fc2(x)\n",
    "            x=torch.relu(x)\n",
    "\n",
    "            x=self.fc3(x)\n",
    "\n",
    "            return torch.relu(x)"
   ]
  },
  {
   "cell_type": "code",
   "execution_count": 9,
   "id": "607f57b4",
   "metadata": {},
   "outputs": [],
   "source": [
    "model = cnn_cifar()\n",
    "criterion = nn.CrossEntropyLoss()\n",
    "optimizer = optim.Adam(model.parameters(), lr=0.001)"
   ]
  },
  {
   "cell_type": "markdown",
   "id": "32c2d6bb",
   "metadata": {},
   "source": [
    "##  Training"
   ]
  },
  {
   "cell_type": "code",
   "execution_count": null,
   "id": "7cc48547",
   "metadata": {},
   "outputs": [],
   "source": [
    "for epoch in range(10):\n",
    "    for images, label in enumerate(train_loader):\n",
    "        "
   ]
  }
 ],
 "metadata": {
  "kernelspec": {
   "display_name": "venv",
   "language": "python",
   "name": "python3"
  },
  "language_info": {
   "codemirror_mode": {
    "name": "ipython",
    "version": 3
   },
   "file_extension": ".py",
   "mimetype": "text/x-python",
   "name": "python",
   "nbconvert_exporter": "python",
   "pygments_lexer": "ipython3",
   "version": "3.11.0"
  }
 },
 "nbformat": 4,
 "nbformat_minor": 5
}
