{
 "cells": [
  {
   "cell_type": "code",
   "execution_count": 82,
   "id": "957604c8",
   "metadata": {},
   "outputs": [],
   "source": [
    "# Dataset : https://www.kaggle.com/datasets/gauravduttakiit/ants-bees?resource=download\n",
    "import os\n",
    "import torch\n",
    "import torch.nn as nn\n",
    "import torch.optim as optim\n",
    "from torchvision import datasets,transforms,models\n",
    "from torch.utils.data import DataLoader"
   ]
  },
  {
   "cell_type": "code",
   "execution_count": 83,
   "id": "3aa5b13b",
   "metadata": {},
   "outputs": [],
   "source": [
    "transforms={'train':transforms.Compose([\n",
    "    transforms.ToTensor(),\n",
    "    transforms.RandomResizedCrop(128),\n",
    "    transforms.RandomHorizontalFlip(),\n",
    "    transforms.Normalize((0.5,0.5,0.5),(0.5,0.5,0.5))]),\n",
    "    'val':transforms.Compose([\n",
    "    transforms.ToTensor(),\n",
    "    transforms.RandomResizedCrop(128),\n",
    "    transforms.RandomHorizontalFlip(),\n",
    "    transforms.Normalize((0.5,0.5,0.5),(0.5,0.5,0.5))])\n",
    "}"
   ]
  },
  {
   "cell_type": "code",
   "execution_count": 84,
   "id": "033556f5",
   "metadata": {},
   "outputs": [],
   "source": [
    "data_dir='data/archive/hymenoptera_data'\n",
    "#image_datasets={x:datasets.ImageFolder(os.path.join(data_dir,x),transform=transforms[x]) for x in ['train','val']}\n"
   ]
  },
  {
   "cell_type": "code",
   "execution_count": 85,
   "id": "4388067e",
   "metadata": {},
   "outputs": [],
   "source": [
    "image_datasets={}\n",
    "image_datasets['train']=datasets.ImageFolder(os.path.join(data_dir,'train'),transform=transforms['train'])\n",
    "image_datasets['val']=datasets.ImageFolder(os.path.join(data_dir,'val'),transform=transforms['val'])"
   ]
  },
  {
   "cell_type": "code",
   "execution_count": 86,
   "id": "26909c1f",
   "metadata": {},
   "outputs": [],
   "source": [
    "data_loader={}\n",
    "data_loader['train']=DataLoader(image_datasets['train'],batch_size=32,shuffle=True)\n",
    "data_loader['val']=DataLoader(image_datasets['val'],batch_size=32,shuffle=True)"
   ]
  },
  {
   "cell_type": "code",
   "execution_count": 87,
   "id": "5370f618",
   "metadata": {},
   "outputs": [],
   "source": [
    "model=models.resnet18(pretrained=True)\n",
    "#print(model)\n",
    "model_ftrs=model.fc.in_features\n",
    "model.fc = nn.Sequential()\n",
    "model.fc.ft1=nn.Linear(model_ftrs,out_features=256)\n",
    "model.fc.ft2=nn.Linear(256,out_features=64)\n",
    "model.fc.ft3=nn.Linear(64,out_features=16)\n",
    "model.fc.ft4=nn.Linear(16,out_features=2)\n",
    "\n",
    "criterian=nn.CrossEntropyLoss()\n",
    "optimizer=optim.Adam(model.fc.parameters(),lr=0.0001)\n"
   ]
  },
  {
   "cell_type": "code",
   "execution_count": 88,
   "id": "45011469",
   "metadata": {},
   "outputs": [
    {
     "name": "stdout",
     "output_type": "stream",
     "text": [
      "0.633276104927063\n",
      "0.5703212022781372\n",
      "0.5007633566856384\n",
      "0.42448192834854126\n",
      "0.4712880551815033\n",
      "0.4319295883178711\n",
      "0.2997700572013855\n",
      "0.25353726744651794\n",
      "0.47874945402145386\n",
      "0.3552878499031067\n"
     ]
    }
   ],
   "source": [
    "for epoch in range(30):\n",
    "    for input,label in data_loader['train']:\n",
    "        output=model(input)\n",
    "        loss=criterian(output,label)\n",
    "        loss.backward()\n",
    "        optimizer.step()\n",
    "        optimizer.zero_grad()\n",
    "    print(loss.item())\n"
   ]
  },
  {
   "cell_type": "code",
   "execution_count": 89,
   "id": "3689caa5",
   "metadata": {},
   "outputs": [
    {
     "name": "stdout",
     "output_type": "stream",
     "text": [
      "Accuracy: 86.9281045751634%\n",
      "153 133\n"
     ]
    }
   ],
   "source": [
    "model.eval()\n",
    "with torch.no_grad():\n",
    "    correct=0\n",
    "    total=0\n",
    "    for input,label in data_loader['val']:\n",
    "        output=model(input)\n",
    "        _,predicted=torch.max(output.data,1)\n",
    "        total+=label.size(0)\n",
    "        correct+=(predicted==label).sum().item()\n",
    "    print('Accuracy: {}%'.format(100*correct/total))\n",
    "    print(total, correct)"
   ]
  }
 ],
 "metadata": {
  "kernelspec": {
   "display_name": "Python 3",
   "language": "python",
   "name": "python3"
  },
  "language_info": {
   "codemirror_mode": {
    "name": "ipython",
    "version": 3
   },
   "file_extension": ".py",
   "mimetype": "text/x-python",
   "name": "python",
   "nbconvert_exporter": "python",
   "pygments_lexer": "ipython3",
   "version": "3.11.0"
  }
 },
 "nbformat": 4,
 "nbformat_minor": 5
}
