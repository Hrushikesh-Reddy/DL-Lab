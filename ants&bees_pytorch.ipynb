{
 "cells": [
  {
   "cell_type": "code",
   "execution_count": 90,
   "id": "957604c8",
   "metadata": {},
   "outputs": [],
   "source": [
    "# Dataset : https://www.kaggle.com/datasets/gauravduttakiit/ants-bees?resource=download\n",
    "import os\n",
    "import torch\n",
    "import torch.nn as nn\n",
    "import torch.optim as optim\n",
    "from torchvision import datasets,transforms,models\n",
    "from torch.utils.data import DataLoader"
   ]
  },
  {
   "cell_type": "code",
   "execution_count": 91,
   "id": "3aa5b13b",
   "metadata": {},
   "outputs": [],
   "source": [
    "transforms={'train':transforms.Compose([\n",
    "    transforms.ToTensor(),\n",
    "    transforms.RandomResizedCrop(128),\n",
    "    transforms.RandomHorizontalFlip(),\n",
    "    transforms.Normalize((0.5,0.5,0.5),(0.5,0.5,0.5))]),\n",
    "    'val':transforms.Compose([\n",
    "    transforms.ToTensor(),\n",
    "    transforms.RandomResizedCrop(128),\n",
    "    transforms.RandomHorizontalFlip(),\n",
    "    transforms.Normalize((0.5,0.5,0.5),(0.5,0.5,0.5))])\n",
    "}"
   ]
  },
  {
   "cell_type": "code",
   "execution_count": 92,
   "id": "033556f5",
   "metadata": {},
   "outputs": [],
   "source": [
    "data_dir='data/archive/hymenoptera_data'\n",
    "#image_datasets={x:datasets.ImageFolder(os.path.join(data_dir,x),transform=transforms[x]) for x in ['train','val']}\n"
   ]
  },
  {
   "cell_type": "code",
   "execution_count": 93,
   "id": "4388067e",
   "metadata": {},
   "outputs": [],
   "source": [
    "image_datasets={}\n",
    "image_datasets['train']=datasets.ImageFolder(os.path.join(data_dir,'train'),transform=transforms['train'])\n",
    "image_datasets['val']=datasets.ImageFolder(os.path.join(data_dir,'val'),transform=transforms['val'])"
   ]
  },
  {
   "cell_type": "code",
   "execution_count": 94,
   "id": "26909c1f",
   "metadata": {},
   "outputs": [],
   "source": [
    "data_loader={}\n",
    "data_loader['train']=DataLoader(image_datasets['train'],batch_size=32,shuffle=True)\n",
    "data_loader['val']=DataLoader(image_datasets['val'],batch_size=32,shuffle=True)"
   ]
  },
  {
   "cell_type": "code",
   "execution_count": 98,
   "id": "5370f618",
   "metadata": {},
   "outputs": [
    {
     "name": "stderr",
     "output_type": "stream",
     "text": [
      "f:\\22EG107B03\\DL-Lab\\.venv\\Lib\\site-packages\\torchvision\\models\\_utils.py:208: UserWarning: The parameter 'pretrained' is deprecated since 0.13 and may be removed in the future, please use 'weights' instead.\n",
      "  warnings.warn(\n",
      "f:\\22EG107B03\\DL-Lab\\.venv\\Lib\\site-packages\\torchvision\\models\\_utils.py:223: UserWarning: Arguments other than a weight enum or `None` for 'weights' are deprecated since 0.13 and may be removed in the future. The current behavior is equivalent to passing `weights=ResNet18_Weights.IMAGENET1K_V1`. You can also use `weights=ResNet18_Weights.DEFAULT` to get the most up-to-date weights.\n",
      "  warnings.warn(msg)\n"
     ]
    }
   ],
   "source": [
    "model=models.resnet18(pretrained=True)\n",
    "#print(model)\n",
    "model_ftrs=model.fc.in_features\n",
    "model.ft=nn.Sequential()\n",
    "#model.fc = nn.Sequential()\n",
    "model.ft.ft1=nn.Linear(model_ftrs,out_features=256)\n",
    "model.ft.ft2=nn.Linear(256,out_features=2)\n",
    "#model.ft.ft3=nn.Linear(64,out_features=16)\n",
    "#model.ft.ft4=nn.Linear(16,out_features=2)\n",
    "model.fc = model.ft\n",
    "criterian=nn.CrossEntropyLoss()\n",
    "optimizer=optim.Adam(model.fc.parameters(),lr=0.0001)\n"
   ]
  },
  {
   "cell_type": "code",
   "execution_count": 99,
   "id": "45011469",
   "metadata": {},
   "outputs": [
    {
     "name": "stdout",
     "output_type": "stream",
     "text": [
      "0.6312088370323181\n",
      "0.5395984053611755\n",
      "0.4713052213191986\n",
      "0.5140424966812134\n",
      "0.3139335811138153\n",
      "0.40761375427246094\n",
      "0.4627936780452728\n",
      "0.4825107157230377\n",
      "0.4135815501213074\n",
      "0.24232104420661926\n"
     ]
    }
   ],
   "source": [
    "for epoch in range(10):\n",
    "    for input,label in data_loader['train']:\n",
    "        output=model(input)\n",
    "        loss=criterian(output,label)\n",
    "        loss.backward()\n",
    "        optimizer.step()\n",
    "        optimizer.zero_grad()\n",
    "    print(loss.item())\n"
   ]
  },
  {
   "cell_type": "code",
   "execution_count": 101,
   "id": "3689caa5",
   "metadata": {},
   "outputs": [
    {
     "name": "stdout",
     "output_type": "stream",
     "text": [
      "Accuracy: 88.23529411764706%\n",
      "153 135\n"
     ]
    }
   ],
   "source": [
    "model.eval()\n",
    "with torch.no_grad():\n",
    "    correct=0\n",
    "    total=0\n",
    "    for input,label in data_loader['val']:\n",
    "        output=model(input)\n",
    "        _,predicted=torch.max(output.data,1)\n",
    "        total+=label.size(0)\n",
    "        correct+=(predicted==label).sum().item()\n",
    "    print('Accuracy: {}%'.format(100*correct/total))\n",
    "    print(total, correct)"
   ]
  }
 ],
 "metadata": {
  "kernelspec": {
   "display_name": "Python 3",
   "language": "python",
   "name": "python3"
  },
  "language_info": {
   "codemirror_mode": {
    "name": "ipython",
    "version": 3
   },
   "file_extension": ".py",
   "mimetype": "text/x-python",
   "name": "python",
   "nbconvert_exporter": "python",
   "pygments_lexer": "ipython3",
   "version": "3.11.0"
  }
 },
 "nbformat": 4,
 "nbformat_minor": 5
}
