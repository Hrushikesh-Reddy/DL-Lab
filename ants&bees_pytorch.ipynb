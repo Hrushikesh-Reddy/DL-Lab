{
 "cells": [
  {
   "cell_type": "code",
   "execution_count": 18,
   "id": "957604c8",
   "metadata": {},
   "outputs": [],
   "source": [
    "# Dataset : https://www.kaggle.com/datasets/gauravduttakiit/ants-bees?resource=download\n",
    "import os\n",
    "import torch\n",
    "import torch.nn as nn\n",
    "import torch.optim as optim\n",
    "from torchvision import datasets,transforms,models\n",
    "from torch.utils.data import DataLoader"
   ]
  },
  {
   "cell_type": "code",
   "execution_count": 19,
   "id": "3aa5b13b",
   "metadata": {},
   "outputs": [],
   "source": [
    "transforms={'train':transforms.Compose([\n",
    "    transforms.ToTensor(),\n",
    "    transforms.RandomResizedCrop(128),\n",
    "    transforms.RandomHorizontalFlip(),\n",
    "    transforms.Normalize((0.5,0.5,0.5),(0.5,0.5,0.5))]),\n",
    "    'val':transforms.Compose([\n",
    "    transforms.ToTensor(),\n",
    "    transforms.RandomResizedCrop(128),\n",
    "    transforms.RandomHorizontalFlip(),\n",
    "    transforms.Normalize((0.5,0.5,0.5),(0.5,0.5,0.5))])\n",
    "}"
   ]
  },
  {
   "cell_type": "code",
   "execution_count": 20,
   "id": "033556f5",
   "metadata": {},
   "outputs": [],
   "source": [
    "data_dir='data/archive/hymenoptera_data'\n",
    "#image_datasets={x:datasets.ImageFolder(os.path.join(data_dir,x),transform=transforms[x]) for x in ['train','val']}\n"
   ]
  },
  {
   "cell_type": "code",
   "execution_count": 21,
   "id": "4388067e",
   "metadata": {},
   "outputs": [],
   "source": [
    "image_datasets={}\n",
    "image_datasets['train']=datasets.ImageFolder(os.path.join(data_dir,'train'),transform=transforms['train'])\n",
    "image_datasets['val']=datasets.ImageFolder(os.path.join(data_dir,'val'),transform=transforms['val'])"
   ]
  },
  {
   "cell_type": "code",
   "execution_count": 22,
   "id": "26909c1f",
   "metadata": {},
   "outputs": [],
   "source": [
    "data_loader={}\n",
    "data_loader['train']=DataLoader(image_datasets['train'],batch_size=32,shuffle=True)\n",
    "data_loader['val']=DataLoader(image_datasets['val'],batch_size=32,shuffle=True)"
   ]
  },
  {
   "cell_type": "code",
   "execution_count": 23,
   "id": "5370f618",
   "metadata": {},
   "outputs": [
    {
     "name": "stderr",
     "output_type": "stream",
     "text": [
      "f:\\22EG107B03\\DL-Lab\\.venv\\Lib\\site-packages\\torchvision\\models\\_utils.py:208: UserWarning: The parameter 'pretrained' is deprecated since 0.13 and may be removed in the future, please use 'weights' instead.\n",
      "  warnings.warn(\n",
      "f:\\22EG107B03\\DL-Lab\\.venv\\Lib\\site-packages\\torchvision\\models\\_utils.py:223: UserWarning: Arguments other than a weight enum or `None` for 'weights' are deprecated since 0.13 and may be removed in the future. The current behavior is equivalent to passing `weights=ResNet18_Weights.IMAGENET1K_V1`. You can also use `weights=ResNet18_Weights.DEFAULT` to get the most up-to-date weights.\n",
      "  warnings.warn(msg)\n"
     ]
    }
   ],
   "source": [
    "model=models.resnet18(pretrained=True)\n",
    "#print(model)\n",
    "model_ftrs=model.fc.in_features\n",
    "model_ft=nn.Linear(model_ftrs,out_features=2)\n",
    "criterian=nn.CrossEntropyLoss()\n",
    "optimizer=optim.Adam(model_ft.parameters(),lr=0.0001)\n",
    "model.fc = model_ft"
   ]
  },
  {
   "cell_type": "code",
   "execution_count": 28,
   "id": "45011469",
   "metadata": {},
   "outputs": [
    {
     "name": "stdout",
     "output_type": "stream",
     "text": [
      "0.4120267331600189\n",
      "0.25006264448165894\n",
      "0.4869869649410248\n",
      "0.26737672090530396\n",
      "0.2910652756690979\n",
      "0.32185181975364685\n",
      "0.36096104979515076\n",
      "0.4434998631477356\n",
      "0.24451029300689697\n",
      "0.3062868118286133\n",
      "0.22286593914031982\n",
      "0.3160650134086609\n",
      "0.19962038099765778\n",
      "0.23654906451702118\n",
      "0.32680580019950867\n",
      "0.2748923599720001\n",
      "0.2854994535446167\n",
      "0.20763568580150604\n",
      "0.20000331103801727\n",
      "0.22996871173381805\n",
      "0.3560146689414978\n",
      "0.21603135764598846\n",
      "0.2773166000843048\n",
      "0.19440782070159912\n",
      "0.1924826055765152\n",
      "0.2515133321285248\n",
      "0.22710900008678436\n",
      "0.14036571979522705\n",
      "0.26123690605163574\n",
      "0.29925909638404846\n",
      "0.21766945719718933\n",
      "0.21949073672294617\n",
      "0.20915687084197998\n",
      "0.4232669472694397\n",
      "0.23916879296302795\n",
      "0.22005900740623474\n",
      "0.19258061051368713\n",
      "0.24240367114543915\n",
      "0.44993600249290466\n",
      "0.29693013429641724\n",
      "0.2579004466533661\n",
      "0.15441212058067322\n",
      "0.22266796231269836\n",
      "0.2684329152107239\n",
      "0.3039762079715729\n",
      "0.2448691576719284\n",
      "0.24125227332115173\n",
      "0.32544785737991333\n",
      "0.3192668557167053\n",
      "0.14382532238960266\n"
     ]
    }
   ],
   "source": [
    "for epoch in range(50):\n",
    "    for input,label in data_loader['train']:\n",
    "        output=model(input)\n",
    "        loss=criterian(output,label)\n",
    "        loss.backward()\n",
    "        optimizer.step()\n",
    "        optimizer.zero_grad()\n",
    "    print(loss.item())\n"
   ]
  },
  {
   "cell_type": "code",
   "execution_count": 29,
   "id": "3689caa5",
   "metadata": {},
   "outputs": [
    {
     "name": "stdout",
     "output_type": "stream",
     "text": [
      "Accuracy: 86.9281045751634%\n",
      "153 133\n"
     ]
    }
   ],
   "source": [
    "model.eval()\n",
    "with torch.no_grad():\n",
    "    correct=0\n",
    "    total=0\n",
    "    for input,label in data_loader['val']:\n",
    "        output=model(input)\n",
    "        _,predicted=torch.max(output.data,1)\n",
    "        total+=label.size(0)\n",
    "        correct+=(predicted==label).sum().item()\n",
    "    print('Accuracy: {}%'.format(100*correct/total))\n",
    "    print(total, correct)"
   ]
  }
 ],
 "metadata": {
  "kernelspec": {
   "display_name": "Python 3",
   "language": "python",
   "name": "python3"
  },
  "language_info": {
   "codemirror_mode": {
    "name": "ipython",
    "version": 3
   },
   "file_extension": ".py",
   "mimetype": "text/x-python",
   "name": "python",
   "nbconvert_exporter": "python",
   "pygments_lexer": "ipython3",
   "version": "3.11.0"
  }
 },
 "nbformat": 4,
 "nbformat_minor": 5
}
